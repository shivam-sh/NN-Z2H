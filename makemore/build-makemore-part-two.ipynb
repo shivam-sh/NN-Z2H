{
 "cells": [
  {
   "cell_type": "code",
   "execution_count": 1,
   "metadata": {},
   "outputs": [],
   "source": [
    "import torch\n",
    "import torch.nn.functional as F\n",
    "import matplotlib.pyplot as plt\n",
    "%matplotlib inline"
   ]
  },
  {
   "cell_type": "code",
   "execution_count": 2,
   "metadata": {},
   "outputs": [
    {
     "data": {
      "text/plain": [
       "32033"
      ]
     },
     "execution_count": 2,
     "metadata": {},
     "output_type": "execute_result"
    }
   ],
   "source": [
    "# read in all the words\n",
    "words = open('names.txt', 'r').read().splitlines()\n",
    "len(words)"
   ]
  },
  {
   "cell_type": "code",
   "execution_count": 3,
   "metadata": {},
   "outputs": [
    {
     "name": "stdout",
     "output_type": "stream",
     "text": [
      "{1: 'a', 2: 'b', 3: 'c', 4: 'd', 5: 'e', 6: 'f', 7: 'g', 8: 'h', 9: 'i', 10: 'j', 11: 'k', 12: 'l', 13: 'm', 14: 'n', 15: 'o', 16: 'p', 17: 'q', 18: 'r', 19: 's', 20: 't', 21: 'u', 22: 'v', 23: 'w', 24: 'x', 25: 'y', 26: 'z', 0: '.'}\n"
     ]
    }
   ],
   "source": [
    "# build the vocabulary of characters and mappings to/from integers\n",
    "chars = sorted(list(set(''.join(words))))\n",
    "stoi = {s:i+1 for i, s, in enumerate(chars)}\n",
    "stoi['.'] = 0\n",
    "itos = {i:s for s, i in stoi.items()}\n",
    "print(itos)"
   ]
  },
  {
   "cell_type": "code",
   "execution_count": 4,
   "metadata": {},
   "outputs": [
    {
     "name": "stdout",
     "output_type": "stream",
     "text": [
      "emma\n",
      "... ---> e\n",
      "..e ---> m\n",
      ".em ---> m\n",
      "emm ---> a\n",
      "mma ---> .\n",
      "olivia\n",
      "... ---> o\n",
      "..o ---> l\n",
      ".ol ---> i\n",
      "oli ---> v\n",
      "liv ---> i\n",
      "ivi ---> a\n",
      "via ---> .\n"
     ]
    }
   ],
   "source": [
    "block_size = 3 # context length\n",
    "for w in words[:2]:\n",
    "    print(w)\n",
    "    context = [0] * block_size\n",
    "\n",
    "    for ch in w + '.':\n",
    "        ix = stoi[ch]\n",
    "        print(''.join(itos[i] for i in context), '--->', itos[ix])\n",
    "        context = context[1:] + [ix]"
   ]
  },
  {
   "cell_type": "code",
   "execution_count": 5,
   "metadata": {},
   "outputs": [
    {
     "name": "stdout",
     "output_type": "stream",
     "text": [
      "torch.Size([182625, 3]) torch.int64 torch.Size([182625]) torch.int64\n",
      "torch.Size([22655, 3]) torch.int64 torch.Size([22655]) torch.int64\n",
      "torch.Size([22866, 3]) torch.int64 torch.Size([22866]) torch.int64\n"
     ]
    }
   ],
   "source": [
    "def build_dataset(words):\n",
    "    block_size = 3\n",
    "    X, Y = [], []\n",
    "\n",
    "    for w in words:\n",
    "        context = [0] * block_size\n",
    "\n",
    "        for ch in w + '.':\n",
    "            ix = stoi[ch]\n",
    "            X.append(context)\n",
    "            Y.append(ix)\n",
    "            context = context[1:] + [ix]\n",
    "    \n",
    "    X = torch.tensor(X)\n",
    "    Y = torch.tensor(Y)\n",
    "    print(X.shape, X.dtype, Y.shape, Y.dtype)\n",
    "    return X, Y\n",
    "\n",
    "import random\n",
    "random.seed(42)\n",
    "random.shuffle(words)\n",
    "n1 = int(0.8 * len(words))\n",
    "n2 = int(0.9 * len(words))\n",
    "\n",
    "Xtrain, Ytrain = build_dataset(words[:n1])\n",
    "Xdev, Ydev = build_dataset(words[n1:n2])\n",
    "Xtest, Ytest = build_dataset(words[n2:])"
   ]
  },
  {
   "cell_type": "code",
   "execution_count": 6,
   "metadata": {},
   "outputs": [
    {
     "data": {
      "text/plain": [
       "(torch.Size([182625, 3]), torch.Size([182625]))"
      ]
     },
     "execution_count": 6,
     "metadata": {},
     "output_type": "execute_result"
    }
   ],
   "source": [
    "Xtrain.shape, Ytrain.shape"
   ]
  },
  {
   "cell_type": "code",
   "execution_count": 7,
   "metadata": {},
   "outputs": [
    {
     "data": {
      "text/plain": [
       "11897"
      ]
     },
     "execution_count": 7,
     "metadata": {},
     "output_type": "execute_result"
    }
   ],
   "source": [
    "g = torch.Generator().manual_seed(2147483647) # Generator for reproducibility\n",
    "C = torch.randn((27, 10), generator=g) # 27 characters with 10 dimensional embeddings\n",
    "W1 = torch.randn((30, 200)) # 30 dimensional context (3 chars with 10d each) with 200 dimensional hidden layer\n",
    "B1 = torch.randn(200) # 200 dimensional hidden layer bias\n",
    "W2 = torch.randn((200, 27)) # 200 dimensional hidden layer with 27 dimensional output (one for each character)\n",
    "B2 = torch.randn((27))  # 27 dimensional output bias\n",
    "parameters = [C, W1, B1, W2, B2]\n",
    "sum(p.nelement() for p in parameters)"
   ]
  },
  {
   "cell_type": "code",
   "execution_count": 8,
   "metadata": {},
   "outputs": [],
   "source": [
    "for p in parameters:\n",
    "    p.requires_grad = True"
   ]
  },
  {
   "cell_type": "code",
   "execution_count": 9,
   "metadata": {},
   "outputs": [],
   "source": [
    "lre = torch.linspace(-3, 0, 1000)\n",
    "lrs = 10 ** lre # learning rates\n",
    "\n",
    "lri = []\n",
    "lossi = []\n",
    "stepi = []"
   ]
  },
  {
   "cell_type": "code",
   "execution_count": 11,
   "metadata": {},
   "outputs": [
    {
     "name": "stdout",
     "output_type": "stream",
     "text": [
      "1.9323151111602783\n"
     ]
    }
   ],
   "source": [
    "for i in range(200000):\n",
    " \n",
    "    # Minibatch of 32 random words\n",
    "    ix = torch.randint(0, Xtrain.shape[0], (32,))\n",
    "\n",
    "    # Forward Pass\n",
    "    emb = C[Xtrain[ix]] # 32, 3, 10 (batch, context, embedding) or 32, 30 (batch, context * embedding)\n",
    "    h = torch.tanh(emb.view(-1, 30) @ W1 + B1) # 32x30 -> 32x200 (embedding -> hidden)\n",
    "    logits = h @ W2 + B2 # 32x200 -> 32x27 (hidden -> output)\n",
    "    loss = F.cross_entropy(logits, Ytrain[ix])\n",
    "\n",
    "    # print(loss.item())\n",
    "\n",
    "    # backward pass\n",
    "    for p in parameters:\n",
    "        p.grad = None\n",
    "    loss.backward()\n",
    "\n",
    "    # update\n",
    "    lr = 0.1 if i < 100000 else 0.01\n",
    "    for p in parameters:\n",
    "        p.data += -lr * p.grad\n",
    "\n",
    "    # stats\n",
    "    stepi.append(i)\n",
    "    # lri.append(lre[i])\n",
    "    lossi.append(loss.log10().item())\n",
    "\n",
    "print(loss.item())"
   ]
  },
  {
   "cell_type": "code",
   "execution_count": 20,
   "metadata": {},
   "outputs": [
    {
     "data": {
      "text/plain": [
       "[<matplotlib.lines.Line2D at 0x145f56890>]"
      ]
     },
     "execution_count": 20,
     "metadata": {},
     "output_type": "execute_result"
    },
    {
     "data": {
      "image/png": "[encoded data removed]",
      "text/plain": [
       "<Figure size 800x300 with 1 Axes>"
      ]
     },
     "metadata": {},
     "output_type": "display_data"
    }
   ],
   "source": [
    "plt.figure(figsize=(8, 3))\n",
    "plt.plot(stepi, lossi)"
   ]
  },
  {
   "cell_type": "code",
   "execution_count": 14,
   "metadata": {},
   "outputs": [
    {
     "data": {
      "text/plain": [
       "tensor(2.1298, grad_fn=<NllLossBackward0>)"
      ]
     },
     "execution_count": 14,
     "metadata": {},
     "output_type": "execute_result"
    }
   ],
   "source": [
    "emb = C[Xdev]\n",
    "h = torch.tanh(emb.view(-1, 30) @ W1 + B1)\n",
    "logits = h @ W2 + B2\n",
    "loss = F.cross_entropy(logits, Ydev)\n",
    "loss"
   ]
  },
  {
   "cell_type": "code",
   "execution_count": 15,
   "metadata": {},
   "outputs": [
    {
     "data": {
      "text/plain": [
       "tensor(2.1314, grad_fn=<NllLossBackward0>)"
      ]
     },
     "execution_count": 15,
     "metadata": {},
     "output_type": "execute_result"
    }
   ],
   "source": [
    "emb = C[Xtest]\n",
    "h = torch.tanh(emb.view(-1, 30) @ W1 + B1)\n",
    "logits = h @ W2 + B2\n",
    "loss = F.cross_entropy(logits, Ytest)\n",
    "loss"
   ]
  },
  {
   "cell_type": "code",
   "execution_count": 18,
   "metadata": {},
   "outputs": [
    {
     "data": {
      "image/png": "[encoded data removed]",
      "text/plain": [
       "<Figure size 600x600 with 1 Axes>"
      ]
     },
     "metadata": {},
     "output_type": "display_data"
    }
   ],
   "source": [
    "plt.figure(figsize=(6, 6))\n",
    "plt.scatter(C[:, 0].data, C[:, 1].data, s=100)\n",
    "for i in range(C.shape[0]):\n",
    "    plt.text(C[i, 0].item(), C[i, 1].item(), itos[i], ha='center', va='center', color='white')"
   ]
  },
  {
   "cell_type": "code",
   "execution_count": 19,
   "metadata": {},
   "outputs": [
    {
     "name": "stdout",
     "output_type": "stream",
     "text": [
      "kenleigh.\n",
      "hakeya.\n",
      "demyla.\n",
      "saliley.\n",
      "rion.\n",
      "kenslynn.\n",
      "maryla.\n",
      "kayla.\n",
      "khylena.\n",
      "ema.\n",
      "macyen.\n",
      "camre.\n",
      "jeshonni.\n",
      "shris.\n",
      "peanzen.\n",
      "kadyugan.\n",
      "amiyah.\n",
      "brus.\n",
      "yercinorion.\n",
      "aza.\n",
      "amarius.\n",
      "kaydolah.\n",
      "majadadily.\n",
      "bour.\n",
      "knesido.\n",
      "tre.\n",
      "camara.\n",
      "mandel.\n",
      "talea.\n",
      "colbell.\n",
      "briana.\n",
      "elaniah.\n",
      "rosalena.\n",
      "torelle.\n",
      "herien.\n",
      "caelee.\n",
      "bria.\n",
      "bonny.\n",
      "kaysel.\n",
      "brylee.\n",
      "kayler.\n",
      "sabaylana.\n",
      "dazen.\n",
      "macienly.\n",
      "elianniell.\n",
      "mccy.\n",
      "darrah.\n",
      "amarte.\n",
      "omanuvanelleilayson.\n",
      "dma.\n",
      "tarie.\n",
      "teva.\n",
      "noebnie.\n",
      "hereonder.\n",
      "dakyre.\n",
      "tayeira.\n",
      "bayse.\n",
      "lon.\n",
      "maralaylyna.\n",
      "zarreya.\n",
      "abddon.\n",
      "dian.\n",
      "pyr.\n",
      "jadon.\n",
      "tevo.\n",
      "maris.\n",
      "negarshone.\n",
      "leck.\n",
      "dorminta.\n",
      "apelijaharmelie.\n",
      "kadima.\n",
      "keyah.\n",
      "braylene.\n",
      "jermy.\n",
      "kend.\n",
      "raytelansen.\n",
      "karestinneck.\n",
      "valyn.\n",
      "santaviya.\n",
      "anaalasiette.\n",
      "nardonte.\n",
      "mella.\n",
      "archista.\n",
      "aublesen.\n",
      "ahermy.\n",
      "grei.\n",
      "genovi.\n",
      "basnaphia.\n",
      "macaziyalee.\n",
      "jianteralyla.\n",
      "jeovuckendel.\n",
      "teberlyna.\n",
      "armett.\n",
      "azi.\n",
      "toreecallah.\n",
      "nila.\n",
      "artora.\n",
      "mick.\n",
      "amarlemarce.\n",
      "krist.\n"
     ]
    }
   ],
   "source": [
    "# sample from the model\n",
    "g = torch.Generator().manual_seed(0)\n",
    "\n",
    "for _ in range(100):\n",
    "\n",
    "    out = []\n",
    "    context = [0] * block_size # initialize with ...\n",
    "    \n",
    "    while True:\n",
    "        emb = C[torch.tensor([context])]\n",
    "        h = torch.tanh(emb.view(1, -1) @ W1 + B1)\n",
    "        logits = h @ W2 + B2\n",
    "        probs = F.softmax(logits, dim=1)\n",
    "        ix = torch.multinomial(probs, num_samples=1, generator=g).item()\n",
    "        context = context[1:] + [ix]\n",
    "        out.append(ix)\n",
    "        if ix == 0:\n",
    "            break\n",
    "\n",
    "    print(''.join(itos[i] for i in out))"
   ]
  }
 ],
 "metadata": {
  "kernelspec": {
   "display_name": "Python 3",
   "language": "python",
   "name": "python3"
  },
  "language_info": {
   "codemirror_mode": {
    "name": "ipython",
    "version": 3
   },
   "file_extension": ".py",
   "mimetype": "text/x-python",
   "name": "python",
   "nbconvert_exporter": "python",
   "pygments_lexer": "ipython3",
   "version": "3.11.3"
  },
  "orig_nbformat": 4
 },
 "nbformat": 4,
 "nbformat_minor": 2
}
